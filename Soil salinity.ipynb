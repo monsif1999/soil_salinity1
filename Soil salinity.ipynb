{
 "cells": [
  {
   "cell_type": "code",
   "execution_count": 1,
   "metadata": {},
   "outputs": [
    {
     "data": {
      "application/vnd.jupyter.widget-view+json": {
       "model_id": "d96cecac7b2747248a98aec350764696",
       "version_major": 2,
       "version_minor": 0
      },
      "text/plain": [
       "Map(center=[40, -100], controls=(WidgetControl(options=['position'], widget=HBox(children=(ToggleButton(value=…"
      ]
     },
     "metadata": {},
     "output_type": "display_data"
    }
   ],
   "source": [
    "import os\n",
    "import ee\n",
    "import geemap\n",
    "ee.Initialize()\n",
    "Map = geemap.Map()\n",
    "Map"
   ]
  },
  {
   "cell_type": "code",
   "execution_count": 2,
   "metadata": {},
   "outputs": [],
   "source": [
    "AOI = ee.Geometry.Polygon([[[-7.590167, 31.968456],\n",
    "          [-7.590167, 32.219754],\n",
    "          [-7.114261, 32.219754],\n",
    "          [-7.114261, 31.968456]]])"
   ]
  },
  {
   "cell_type": "code",
   "execution_count": 3,
   "metadata": {},
   "outputs": [],
   "source": [
    "L8 = ee.ImageCollection('LANDSAT/LC08/C01/T1_TOA') \\\n",
    ".filterDate('2020-08-1','2020-08-30') \\\n",
    ".filterBounds(AOI) \\\n",
    ".filter(ee.Filter.lt('CLOUD_COVER', 10))\n",
    "\n",
    "\n"
   ]
  },
  {
   "cell_type": "code",
   "execution_count": 4,
   "metadata": {},
   "outputs": [],
   "source": [
    "img = ee.Image(L8.median()).clip(AOI)\n",
    "viz = {'min':0, 'max':0.4, 'bands':\"B4,B3,B2\"}\n"
   ]
  },
  {
   "cell_type": "code",
   "execution_count": 5,
   "metadata": {},
   "outputs": [],
   "source": [
    "NSI = img.expression(\n",
    "    '((SWIR1 - SWIR2) / (SWIR1 - NIR))', {\n",
    "      'NIR' : img.select('B5'),\n",
    "      'SWIR1': img.select('B6'),\n",
    "      'SWIR2': img.select('B7')\n",
    "}).rename('NSI')\n",
    "nsiParams = {'min': 0, 'max': 4, 'palette': ['yellow', 'orange','grey', 'white']}\n",
    "\n",
    "SSSI_1 = img.expression(\n",
    "    '(SWIR1 - SWIR2)', {\n",
    "      'SWIR1': img.select('B6'),\n",
    "      'SWIR2': img.select('B7')\n",
    "}).rename('SSSI_1')\n",
    "\n",
    "sssi_1_Params = {'min': 0.04, 'max': 0.19, 'palette': ['yellow', 'orange','grey', 'white']}\n",
    "\n",
    "SSSI_2 = img.expression(\n",
    "    '((SWIR1 * SWIR2) - (SWIR2 * SWIR2)) / SWIR1', {\n",
    "      'SWIR1': img.select('B6'),\n",
    "      'SWIR2': img.select('B7')\n",
    "}).rename('SSSI_2')\n",
    "\n",
    "sssi_2_Params = {'min': 0.04, 'max': 0.14, 'palette': ['yellow', 'orange','grey', 'white']}"
   ]
  },
  {
   "cell_type": "code",
   "execution_count": 20,
   "metadata": {},
   "outputs": [],
   "source": [
    "legend_keys = ['High', '-', '-', '-']\n",
    " #colorS can be defined using either hex code or RGB (0-255, 0-255, 0-255)\n",
    "legend_colors = ['#FFFF00', '#FFA07A', '#808080', '#FFFFFF']\n",
    "# legend_colors = [(255, 0, 0), (127, 255, 0), (127, 18, 25), (36, 70, 180), (96, 68 123)]\n",
    "\n",
    "Map.add_legend(legend_keys=legend_keys, legend_colors=legend_colors, position='bottomleft')\n"
   ]
  },
  {
   "cell_type": "code",
   "execution_count": 6,
   "metadata": {
    "scrolled": true
   },
   "outputs": [],
   "source": [
    "Map.addLayer(img,viz,\"Landsat 8\")\n",
    "Map.addLayer(NSI,nsiParams,\"NSI\")\n",
    "Map.addLayer(SSSI_1, sssi_1_Params, 'SSSI_1')\n",
    "Map.addLayer(SSSI_2, sssi_2_Params, 'SSSI_2')"
   ]
  },
  {
   "cell_type": "code",
   "execution_count": null,
   "metadata": {},
   "outputs": [],
   "source": []
  },
  {
   "cell_type": "code",
   "execution_count": null,
   "metadata": {},
   "outputs": [],
   "source": []
  }
 ],
 "metadata": {
  "kernelspec": {
   "display_name": "Python 3",
   "language": "python",
   "name": "python3"
  },
  "language_info": {
   "codemirror_mode": {
    "name": "ipython",
    "version": 3
   },
   "file_extension": ".py",
   "mimetype": "text/x-python",
   "name": "python",
   "nbconvert_exporter": "python",
   "pygments_lexer": "ipython3",
   "version": "3.7.9"
  }
 },
 "nbformat": 4,
 "nbformat_minor": 4
}
